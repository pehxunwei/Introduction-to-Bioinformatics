{
 "cells": [
  {
   "cell_type": "code",
   "execution_count": 4,
   "metadata": {},
   "outputs": [
    {
     "ename": "SyntaxError",
     "evalue": "EOL while scanning string literal (<ipython-input-4-985d4ab05765>, line 14)",
     "output_type": "error",
     "traceback": [
      "\u001b[0;36m  File \u001b[0;32m\"<ipython-input-4-985d4ab05765>\"\u001b[0;36m, line \u001b[0;32m14\u001b[0m\n\u001b[0;31m    s = 'AATGAGACTTTGACCAATGAGACTTTGACCTTTGACCAATGAGACTAGTTCTAGCTAACCTAGTTCTAATGAGACTTTGACCAATGAGACAGCTAACCTAGTTCTTTTGACCCTCACGGCAATGAGACTAGTTCTTAGTTCTAATGAGACAGCTAACCAGCTAACCAGCTAACCAGCTAACCCTCACGGCAATGAGACCTCACGGCTTTGACCTAGTTCTCTCACGGCTAGTTCTAATGAGACCTCACGGCCTCACGGCTTTGACCAATGAGACAGCTAACCCTCACGGCAATGAGACCTCACGGCCTCACGGCTAGTTCTAATGAGACAATGAGACTAGTTCTTAGTTCTTTTGACCAGCTAACCTTTGACCTAGTTCTTTTGACCTTTGACCTAGTTCTTAGTTCTCTCACGGCTAGTTCTTTTGACCAATGAGACTTTGACCAATGAGACAGCTAACCAATGAGACCTCACGGCAATGAGACAATGAGACAATGAGACAGCTAACCTTTGACCTAGTTCTTTTGACCAATGAGACAGCTAACCAATGAGACTAGTTCTCTCACGGCCTCACGGCAATGAGACTTTGACCTTTGACCAGCTAACCTTTGACCAGCTAACCAATGAGACCTCACGGCTTTGACCTTTGACCCTCACGGCTTTGACCTAGTTCTCTCACGGCTAGTTCTCTCACGGCTTTGACCCTCACGGCTTTGACCTAGTTCTAATGAGACCTCACGGCCTCACGGCAGCTAACCTTTGACCTAGTTCTAATGAGACCTCACGGCAGCTAACCCTCACGGCCTCACGGCTAGTTCTCTCACGGCTTTGACCAATGAGACTTTGACCTAGTTCTTTTGACCAGCTAACC\u001b[0m\n\u001b[0m                                                                                                                                                                                                                                                                                                                                                                                                                                                                                                                                                                                                                                                                                                                                                                                                                                                                                                                ^\u001b[0m\n\u001b[0;31mSyntaxError\u001b[0m\u001b[0;31m:\u001b[0m EOL while scanning string literal\n"
     ]
    }
   ],
   "source": [
    "def frequentWords( s, k ):\n",
    "    counts = {}\n",
    "    for i in range(len(s)-k+1):\n",
    "        if s[i:i+k] not in counts:\n",
    "            counts[s[i:i+k]] = 0\n",
    "        counts[s[i:i+k]] += 1\n",
    "    m = max(counts.values())\n",
    "    out = []\n",
    "    for kmer in counts:\n",
    "        if counts[kmer] == m:\n",
    "            out.append(kmer)\n",
    "    return out\n",
    "\n",
    "s = 'AATGAGACTTTGACCAATGAGACTTTGACCTTTGACCAATGAGACTAGTTCTAGCTAACCTAGTTCTAATGAGACTTTGACCAATGAGACAGCTAACCTAGTTCTTTTGACCCTCACGGCAATGAGACTAGTTCTTAGTTCTAATGAGACAGCTAACCAGCTAACCAGCTAACCAGCTAACCCTCACGGCAATGAGACCTCACGGCTTTGACCTAGTTCTCTCACGGCTAGTTCTAATGAGACCTCACGGCCTCACGGCTTTGACCAATGAGACAGCTAACCCTCACGGCAATGAGACCTCACGGCCTCACGGCTAGTTCTAATGAGACAATGAGACTAGTTCTTAGTTCTTTTGACCAGCTAACCTTTGACCTAGTTCTTTTGACCTTTGACCTAGTTCTTAGTTCTCTCACGGCTAGTTCTTTTGACCAATGAGACTTTGACCAATGAGACAGCTAACCAATGAGACCTCACGGCAATGAGACAATGAGACAATGAGACAGCTAACCTTTGACCTAGTTCTTTTGACCAATGAGACAGCTAACCAATGAGACTAGTTCTCTCACGGCCTCACGGCAATGAGACTTTGACCTTTGACCAGCTAACCTTTGACCAGCTAACCAATGAGACCTCACGGCTTTGACCTTTGACCCTCACGGCTTTGACCTAGTTCTCTCACGGCTAGTTCTCTCACGGCTTTGACCCTCACGGCTTTGACCTAGTTCTAATGAGACCTCACGGCCTCACGGCAGCTAACCTTTGACCTAGTTCTAATGAGACCTCACGGCAGCTAACCCTCACGGCCTCACGGCTAGTTCTCTCACGGCTTTGACCAATGAGACTTTGACCTAGTTCTTTTGACCAGCTAACC'\n",
    "k = 11\n",
    "print(' '.join(frequentWords(s,k)))"
   ]
  },
  {
   "cell_type": "code",
   "execution_count": null,
   "metadata": {},
   "outputs": [],
   "source": []
  }
 ],
 "metadata": {
  "kernelspec": {
   "display_name": "Python 3",
   "language": "python",
   "name": "python3"
  },
  "language_info": {
   "codemirror_mode": {
    "name": "ipython",
    "version": 3
   },
   "file_extension": ".py",
   "mimetype": "text/x-python",
   "name": "python",
   "nbconvert_exporter": "python",
   "pygments_lexer": "ipython3",
   "version": "3.6.4"
  }
 },
 "nbformat": 4,
 "nbformat_minor": 2
}
