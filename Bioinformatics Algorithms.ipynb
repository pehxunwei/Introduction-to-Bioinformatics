{
 "cells": [
  {
   "cell_type": "markdown",
   "metadata": {},
   "source": [
    "<h1><center> Bioinformatics Algorithms </center></h1>"
   ]
  },
  {
   "cell_type": "markdown",
   "metadata": {},
   "source": [
    "<p style=\"text-align: justify;\">**Genome replication** is one of the most important tasks carried out in the cell. Before a cell can divide, it must first replicate its genome so that each of the two daughter cells inherits its own copy. In 1953, James Watson and Francis Crick completed their landmark paper on the DNA double helix with a now-famous phrase:</p>\n",
    "\n",
    "<p style=\"text-align: justify;\">\"It has not escaped our notice that the specific pairing we have postulated immediately suggests a possible copying mechanism for the genetic material.\"</p>\n",
    "\n",
    "<p style=\"text-align: justify;\">They conjectured that the two strands of the parent DNA molecule unwind during replication, and then each parent strand acts as a template for the synthesis of a new strand. As a result, the replication process begins with a pair of complementary strands of DNA and ends with two pairs of complementary strands, as shown below.</p>"
   ]
  },
  {
   "cell_type": "markdown",
   "metadata": {},
   "source": [
    "![Semiconservative_replication](http://bioinformaticsalgorithms.com/images/Replication/semiconservative_replication.png)"
   ]
  },
  {
   "cell_type": "markdown",
   "metadata": {},
   "source": [
    "<p style=\"text-align: center;\">**Figure**: A naive view of replication. Nucleotides adenine (A) and thymine (T) are complements of each other, as are cytosine (C) and guanine (G). Complementary nucleotides bind to each other in DNA. </p>"
   ]
  },
  {
   "cell_type": "markdown",
   "metadata": {},
   "source": [
    "<p style=\"text-align: justify;\">Although this figure successfully models DNA replication on a simple level, the details of replication turned out to be much more intricate than Watson and Crick imagined; as we will see, an astounding amount of molecular logistics is required to ensure DNA replication.</p>"
   ]
  },
  {
   "cell_type": "markdown",
   "metadata": {},
   "source": [
    "<p style=\"text-align: justify;\">At first glance, a computer scientist might not imagine that these details have any computational relevance. To mimic the process in the above figure algorithmically, we only need to take a string representing the genome and return a copy of it! Yet if we take the time to review the underlying biological process, we will be rewarded with new algorithmic insights into analyzing replication. Replication begins in a genomic region called the **replication origin** (denoted ori) and is carried out by molecular copy machines called **DNA polymerases**.</p>\n",
    "\n",
    "<p style=\"text-align: justify;\">Locating ori presents an important task not only for understanding how cells replicate but also for various biomedical problems. For example, some **gene therapy** methods use genetically engineered mini-genomes, which are called **viral vectors** because they are able to penetrate cell walls (just like real viruses). Viral vectors carrying artificial genes have been used in agriculture, such as to engineer frost-resistant tomatoes and pesticide-resistant corn. In 1990, gene therapy was first successfully performed on humans when it saved the life of a four-year-old girl suffering from Severe Combined Immunodeficiency Disorder; the girl had been so vulnerable to infections that she was forced to live in a sterile environment.</p>\n",
    "\n",
    "<p style=\"text-align: justify;\">The idea of gene therapy is to intentionally infect a patient who lacks a crucial gene with a viral vector containing an artificial gene that encodes a therapeutic protein. Once inside the cell, the vector replicates and eventually produces many copies of the therapeutic protein, which in turn treats the patient’s disease. To ensure that the vector actually replicates inside the cell, biologists must know where ori is in the vector’s genome and ensure that the genetic manipulations that they perform do not affect it.</p>\n",
    "\n",
    "<p style=\"text-align: justify;\">In the following problem, we assume that a genome has a single ori and is represented as a **DNA string**, or a string of nucleotides from the four-letter alphabet {A, C, G, T}.</p>\n",
    "\n",
    "**Finding Origin of Replication Problem**:  \n",
    "   **Input**: A DNA string Genome.  \n",
    "   **Output**: The location of ori in Genome."
   ]
  },
  {
   "cell_type": "markdown",
   "metadata": {},
   "source": [
    "<p style=\"text-align: justify;\">Although the Finding ori Problem asks a legitimate biological question, it does not present a well-defined computational problem. Indeed, biologists would immediately plan an experiment to locate ori: for example, they might delete various short segments from the genome in an effort to find a segment whose deletion stops replication. Computer scientists, on the other hand, would shake their heads and demand more information before they can even start thinking about the problem.</p>\n",
    "\n",
    "<p style=\"text-align: justify;\">Why should biologists care what computer scientists think? Computational methods are now the only realistic way to answer many questions in modern biology. First, these methods are much faster than experimental approaches; second, the results of many experiments cannot be interpreted without computational analysis. In particular, existing experimental approaches to ori prediction are rather time consuming. As a result, ori has only been experimentally located in a handful of species. Thus, we would like to design a computational approach to find ori so that biologists are free to spend their time and money on other tasks.</p>"
   ]
  },
  {
   "cell_type": "markdown",
   "metadata": {},
   "source": [
    "<h1><center> Hidden messages in the Replication Origin </center></h1>"
   ]
  },
  {
   "cell_type": "markdown",
   "metadata": {},
   "source": [
    "### DnaA Boxes"
   ]
  },
  {
   "cell_type": "markdown",
   "metadata": {},
   "source": [
    "<p style=\"text-align: justify;\">In the rest of this chapter, we will focus on the relatively easy case of finding ori in bacterial genomes, most of which consist of a single circular chromosome. Research has shown that the region of the bacterial genome encoding ori is typically a few hundred nucleotides long. Our plan is to begin with a bacterium in which ori is known, and then determine what makes this genomic region special in order to design a computational approach for finding ori in other bacteria.</p>"
   ]
  },
  {
   "cell_type": "markdown",
   "metadata": {},
   "source": [
    "<p style=\"text-align: justify;\">How does the bacterial cell know to begin replication exactly in this short region within the much larger Vibrio cholerae chromosome, which consists of 1,108,250 nucleotides? There must be some “hidden message” in the ori region ordering the cell to begin replication here. Indeed, we know that the initiation of replication is mediated by **DnaA**, a protein that binds to a short segment within the ori known as a **DnaA box**. You can think of the DnaA box as a message within the DNA sequence telling the DnaA protein: “bind here!” The question is how to find this hidden message without knowing what it looks like in advance—can you find it? In other words, can you find something that stands out in ori? This discussion motivates the following problem.</p>\n",
    "\n",
    "**Hidden Message Problem**: Find a “hidden message” in the replication origin.  \n",
    "   **Input**: A string Text (representing the replication origin of a genome).  \n",
    "   **Output**:A hidden message in Text."
   ]
  },
  {
   "cell_type": "markdown",
   "metadata": {},
   "source": [
    "<h2><center> Hidden messages in \"The Gold-Bug\" </center></h2>"
   ]
  },
  {
   "cell_type": "markdown",
   "metadata": {},
   "source": [
    "<p style=\"text-align: justify;\">Although the Hidden Message Problem poses a legitimate intuitive question, it again makes absolutely no sense to a computer scientist because the notion of a “hidden message” is not precisely defined. The ori region of Vibrio cholerae is currently just as puzzling as the parchment discovered by William Legrand in Edgar Allan Poe's story \"The Gold-Bug\". Written on the parchment was</p>\n",
    "\n"
   ]
  },
  {
   "cell_type": "markdown",
   "metadata": {},
   "source": [
    "<center>53‡‡†305))6·;4826)4‡.)4‡);806·;48†8^60))85;161;:‡·8</center>\n",
    "\n",
    "<center>†83(88)5·†;46(;88·96·?;8)·‡(;485);5·†2:·‡(;4956·2(5</center>\n",
    "\n",
    "<center>·—4)8^8·;4069285);)6†8)4‡‡;1(‡9;48081;8:8‡1;48†85;4</center>\n",
    "\n",
    "<center>)485†528806·81(‡9;48;(88;4(‡?34;48)4‡;1‡(;:188;‡?;</center>"
   ]
  },
  {
   "cell_type": "markdown",
   "metadata": {},
   "source": [
    "<p style=\"text-align: justify;\">Upon seeing the parchment, the narrator remarks, \"Were all the jewels of Golconda awaiting me upon my solution of this enigma, I am quite sure that I should be unable to earn them.\" Legrand retorts, \"It may well be doubted whether human ingenuity can construct an enigma of the kind which human ingenuity may not, by proper application, resolve.\" He reasons that the three consecutive symbols **;48** appear with surprising frequency on the parchment.</p>"
   ]
  },
  {
   "cell_type": "markdown",
   "metadata": {},
   "source": [
    "<center>53‡‡†305))6·**;48**26)4‡.)4‡);806·**;48**†8^60))85;161;:‡·8</center>\n",
    "<center>†83(88)5·†;46(;88·96·?;8)·‡(**;48**5);5·†2:·‡(;4956·2(5</center>\n",
    "<center>·—4)8^8·;4069285);)6†8)4‡‡;1(‡9**;48**081;8:8‡1**;48**†85;4</center>\n",
    "<center>)485†528806·81(‡9**;48**;(88;4(‡?34**;48**)4‡;1‡(;:188;‡?;</center>\n",
    "\n"
   ]
  },
  {
   "cell_type": "markdown",
   "metadata": {},
   "source": [
    "<p style=\"text-align: justify;\">Legrand had already deduced that the pirates spoke English; he therefore assumed that the high frequency of **;48** implied that it encodes the most frequent English word, **THE**. Substituting **;** for **T**, **4** for **H**, and **8** for **E**, Legrand had a slightly easier text to decipher (shown below), which would eventually lead him to the buried treasure. Can you decode this message too? </p>"
   ]
  },
  {
   "cell_type": "markdown",
   "metadata": {},
   "source": [
    "<center>53‡‡†305))6·**THE**26)**H**‡.)**H**‡)**TE**06·**THE**†**E**^60))**E**5**T**161**T**:‡·**E**</center>\n",
    "<center>†**E**3(**EE**)5·†**TH**6(**TEE**·96·?**TE**)·‡(**THE**5)**T**5·†2:·‡(**TH**956·2(5</center>\n",
    "<center>·—**H**)**E**^**E**·**TH**0692**E**5)**T**)6†**E**)**H**‡‡**T**1(‡9**THE**0**E**1**TE**:**E**‡1**THE**†**E**5**TH**</center>\n",
    "<center>)**HE**5†52**EE**06·**E**1(‡9**THET**(**EETH**(‡?3**HTHE**)**H**‡**T**1‡(**T**:1**EET**‡?**T**</center>"
   ]
  },
  {
   "cell_type": "markdown",
   "metadata": {},
   "source": [
    "<h2><center> Counting Words </center></h2>"
   ]
  },
  {
   "cell_type": "markdown",
   "metadata": {},
   "source": [
    "<p style=\"text-align: justify;\">Operating under the assumption that DNA is a language of its own, let's borrow Legrand's method and see if we can find any surprisingly frequent \"words\" within the ori of Vibrio cholerae. We have added reason to look for frequent words in the ori because for various biological processes, certain nucleotide strings often appear surprisingly often in small regions of the genome. This is often because certain proteins can only bind to DNA if a specific string of nucleotides is present, and if there are more occurrences of the string, then it is more likely that binding will successfully occur. (It is also less likely that a mutation will disrupt the binding process.)</p>"
   ]
  },
  {
   "cell_type": "markdown",
   "metadata": {},
   "source": [
    "For example, **ACTAT** is a surprisingly frequent substring of ACA**ACTAT**GCAT**ACTAT**CGGGA**ACTAT**CCT."
   ]
  },
  {
   "cell_type": "markdown",
   "metadata": {},
   "source": [
    "<p style=\"text-align: justify;\">We will use the term **k-mer** to refer to a string of length *k* and define *Count(Text, Pattern)* as the number of times that a k-mer *Pattern* appears as a substring of *Text*. Following the above example,</p>"
   ]
  },
  {
   "cell_type": "markdown",
   "metadata": {},
   "source": [
    "<center> *Count*(ACA**ACTAT**GCAT**ACTAT**CGGGA**ACTAT**CCT, ACTAT) = 3. </center>"
   ]
  },
  {
   "cell_type": "markdown",
   "metadata": {},
   "source": [
    "We note that *Count*(CG**ATATA**TCC**ATA**G, **ATA**) is equal to 3 (not 2) since we should account for overlapping occurrences of *Pattern* in *Text*."
   ]
  },
  {
   "cell_type": "markdown",
   "metadata": {},
   "source": [
    "<p style=\"text-align: justify;\">To compute *Count(Text, Pattern)*, our plan is to “slide a window” down *Text*, checking whether each k-mer substring of *Text* matches *Pattern*. We will therefore refer to the *k*-mer starting at position i of *Text* as *Text(i, k)*. Throughout this book, we will often use **0-based indexing**,meaning that we count starting at 0 instead of 1. In this case, *Text* begins at position 0 and ends at position |*Text*| − 1 (|*Text*| denotes the number of symbols in *Text*). For example, if *Text* = GACCATACTG, then *Text*(4, 3) = ATA. Note that the last *k*-mer of *Text* begins at position |*Text*| − *k*, e.g., the last 3-mer of GACCATACTG starts at position 10 − 3 = 7. This discussion results in the following pseudocode for computing *Count(Text, Pattern)*.</p>\n",
    "\n"
   ]
  },
  {
   "cell_type": "markdown",
   "metadata": {},
   "source": [
    "<p style=\"text-align: justify;\">**Important Note**: We do not assume that you know how to program; we only expect you to program if you are following the Honors Track. However, we do need to communicate the computational methods used in modern biology. To do so, we will use the language of **pseudocode**, which is more precise than human language. Please click [here](http://bioinformaticsalgorithms.com/excerpt/Pseudocode.pdf) for an overview of pseudocode.</p>"
   ]
  },
  {
   "cell_type": "markdown",
   "metadata": {},
   "source": [
    "<h3> <span style = \"color: green\">Code Challenge:</span> </h3> Implement **PatternCount** (reproduced below).  \n",
    "   **Input**: Strings Text and Pattern.  \n",
    "   **Output**: Count(Text, Pattern)."
   ]
  },
  {
   "cell_type": "markdown",
   "metadata": {},
   "source": [
    "    PatternCount(Text, Pattern)\n",
    "        count ← 0\n",
    "        for i ← 0 to |Text| − |Pattern|\n",
    "            if Text(i, |Pattern|) = Pattern\n",
    "                count ← count + 1\n",
    "        return count"
   ]
  },
  {
   "cell_type": "code",
   "execution_count": 92,
   "metadata": {},
   "outputs": [],
   "source": [
    "Text = \"AGGAACGACTCAAGAACGACGTGACTCGAACGACGAACGACAGAACGACTCATGAAGAACGACATACGAACGACGAACGACGAATGAACGACCAGGAACGACGAACGACGCGAACGACTGAACGACCGTTACGAACGACGGCGAACGACTGAACGACGAACGACACGAACGACCGCGGCGAGCATTGTAAAAGAGGAACGACGAACGACGAACGACCGAACGACCGAACGACGGGTAGAAGGAACGACAGTCAAGTCTGAACGACAATTGAACGACTGGGGCCGTGAACGACGAACGACAAGAACGACTCCCGAGCGAACGACGATTAGCTGAACGACTGAACGACGCAAACCTATCGAACGACGCAGAACGACCGTTTTCGAACGACGAACGACTCGTCGTACCATGAGGAACGACGAACGACCAGTTCTGAACGACATGGGAACGACGCACGTTTAAGAACGACGAACGACGCGGAACGACGAACGACTGAACGACCGAACGACGAACGACAAGGAACGACGCCGGAACGACTGAACGACAATCCTCGAAGAACGACTGAACGACCCTAGAACGACGCAGTCTAGAACGACGTTGAACGACGGGAACGACGGAACGACGCGAACGACGAACGACGAACGACGGAACGACATGGAACGACGGAACGACACGAACGACGGAACGACGAACGACCTTGGAACGACGAACGACGAACGACCGAACGACTGAACGACAGAACGACTCCGAACGACTGCGGAACGACCAAGAACGACTGAGAACGACCCTGAACGACAGAACGACGAACGACACGTGAACGACGAACGACGCACCAATGGAACGACAAAGAACGACATGAACGACAAGGAACGACTCGGAAGGAACGACTCGAACGACCTCCAGGAACGACCACGGAACGACCTCGTGAACGACACGAACGTGAACGACCACGTTGAACGACGAACGACGAACGACGAACGACCGAACGACGTGAACGACATGAACGACCGGGTGGGAACGACACTTGGAACGACCTCGAACGACGAACGAC\""
   ]
  },
  {
   "cell_type": "code",
   "execution_count": 93,
   "metadata": {},
   "outputs": [],
   "source": [
    "Pattern = \"GAACGACGA\""
   ]
  },
  {
   "cell_type": "code",
   "execution_count": 94,
   "metadata": {},
   "outputs": [
    {
     "name": "stdout",
     "output_type": "stream",
     "text": [
      "25\n"
     ]
    }
   ],
   "source": [
    "def patternCount(Text, Pattern):\n",
    "    count = 0;\n",
    "    l = len(Pattern)\n",
    "    for i in range(len(Text) - l + 1):\n",
    "        if Text[i:i+l] == Pattern:\n",
    "            count += 1;\n",
    "    return count\n",
    "\n",
    "print(patternCount(Text, Pattern))"
   ]
  },
  {
   "cell_type": "markdown",
   "metadata": {},
   "source": [
    "<h2><center> The Frequent Words Problem</center></h2>"
   ]
  },
  {
   "cell_type": "markdown",
   "metadata": {},
   "source": [
    "<p style=\"text-align: justify;\">We say that *Pattern* is a **most frequent *k*-mer** in *Text* if it maximizes *Count(Text, Pattern)* among all *k*-mers. You can see that **ACTAT** is a most frequent 5-mer of ACA**ACTAT**GCAT**ACTAT**CGGGA**ACTAT**CCT, and **ATA** is a most frequent 3-mer of CG**ATA**TATCC**ATA**G.</p>"
   ]
  },
  {
   "cell_type": "markdown",
   "metadata": {},
   "source": [
    "We now have a rigorously defined computational problem.\n",
    "\n",
    "**Frequent Words Problem**: Find the most frequent k-mers in a string.\n",
    "\n",
    "   **Input**: A string *Text* and an integer *k*.  \n",
    "   **Output**:All most frequent *k*-mers in *Text*."
   ]
  },
  {
   "cell_type": "markdown",
   "metadata": {},
   "source": [
    "<p style=\"text-align: justify;\">A straightforward algorithm for finding the most frequent *k*-mers in a string *Text* checks all *k*-mers appearing in this string (there are |*Text*| − *k* + 1 such *k*-mers) and then computes how many times each *k*-mer appears in *Text*. To implement this algorithm, called **FrequentWords**, we will need to generate an array *Count*, where *Count(i)* stores *Count(Text, Pattern)* for *Pattern* = *Text(i, k)* (see figure below).</p>"
   ]
  },
  {
   "cell_type": "markdown",
   "metadata": {},
   "source": [
    "insert photo"
   ]
  },
  {
   "cell_type": "markdown",
   "metadata": {},
   "source": [
    "<p style=\"text-align: center;\">**Figure**: The array *Count* for *Text* = ACTGACTCCCACCCC and *k* = 3. For example, *Count*(0) = *Count*(4) = 2 because ACT (shown in boldface) appears twice in *Text*.</p>"
   ]
  },
  {
   "cell_type": "markdown",
   "metadata": {},
   "source": [
    "The pseudocode for **FrequentWords** is shown below."
   ]
  },
  {
   "cell_type": "markdown",
   "metadata": {},
   "source": [
    "    FrequentWords(Text, k)\n",
    "        FrequentPatterns ← an empty set\n",
    "        for i ← 0 to |Text| − k\n",
    "            Pattern ← the k-mer Text(i, k)\n",
    "            Count(i) ← PatternCount(Text, Pattern)\n",
    "        maxCount ← maximum value in array Count\n",
    "        for i ← 0 to |Text| − k\n",
    "            if Count(i) = maxCount\n",
    "                add Text(i, k) to FrequentPatterns\n",
    "        remove duplicates from FrequentPatterns\n",
    "        return FrequentPatterns"
   ]
  },
  {
   "cell_type": "markdown",
   "metadata": {},
   "source": [
    "<h3> <span style = \"color: green\">Code Challenge:</span> </h3> Solve the Frequent Words Problem.  \n",
    "     **Input**: A string *Text* and an integer *k*.  \n",
    "     **Output**: All most frequent *k*-mers in *Text*."
   ]
  },
  {
   "cell_type": "code",
   "execution_count": 84,
   "metadata": {},
   "outputs": [],
   "source": [
    "Text = \"ACGTTGCATGTCGCATGATGCATGAGAGCT\"\n",
    "k = 4"
   ]
  },
  {
   "cell_type": "code",
   "execution_count": 85,
   "metadata": {},
   "outputs": [],
   "source": [
    "Pattern = \"CATG,GCAT\""
   ]
  },
  {
   "cell_type": "code",
   "execution_count": 2,
   "metadata": {},
   "outputs": [
    {
     "name": "stdout",
     "output_type": "stream",
     "text": [
      "['GCAT', 'CATG']\n"
     ]
    }
   ],
   "source": [
    "def frequentWords( Text, k ):\n",
    "    counts = {} #create a dictionary\n",
    "    for i in range(len(Text)-k+1):\n",
    "        if Text[i:i+k] not in counts:\n",
    "            counts[Text[i:i+k]] = 0\n",
    "        counts[Text[i:i+k]] += 1\n",
    "    m = max(counts.values())\n",
    "    out = []\n",
    "    for kmer in counts:\n",
    "        if counts[kmer] == m:\n",
    "            out.append(kmer)\n",
    "    return out\n",
    "\n",
    "Text = 'ACGTTGCATGTCGCATGATGCATGAGAGCT'\n",
    "k = 4\n",
    "\n",
    "print(frequentWords(Text,k))"
   ]
  },
  {
   "cell_type": "markdown",
   "metadata": {},
   "source": [
    "<p style=\"text-align: justify;\">Although **FrequentWords** finds most frequent k-mers, it is not very efficient. Each call to **PatternCount**(Text, Pattern) checks whether the k-mer Pattern appears in position 0 of Text, position 1 of Text, and so on. Since each k-mer requires |Text| − k + 1 such checks, each one requiring as many as k comparisons, the overall number of steps of **PatternCount**(Text, Pattern) is (|Text| − k + 1) · k. Furthermore, **FrequentWords** must call **PatternCount** |Text| − k + 1 times (once for each k-mer of Text), so that its overall number of steps is (|Text| − k + 1) · (|Text| − k + 1) · k. To simplify the matter, computer scientists often say that the runtime of **FrequentWords** has an upper bound of |Text|2 · k steps and refer to the **complexity** of this algorithm as O(|Text|2 · k). For more details, see \"DETOUR: Big-O Notation\" in the [print companion](http://bioinformaticsalgorithms.com/).</p>\n",
    "\n",
    "<p style=\"text-align: justify;\">If |Text| and k are small, as is the case when looking for DnaA boxes in the typical bacterial ori, then an algorithm with running time of O(|Text|2 · k) is perfectly acceptable. But once we find some new biological application requiring us to solve the Frequent Words Problem for a very long Text, we will quickly run into trouble. Check out [**Charging Station**](https://stepik.org/lesson/2994/step/1?unit=8234): [The Frequency Array](https://stepik.org/lesson/2994/) to learn about solving the Frequent Words Problem using a frequency array, a data structure that will also help us solve new coding challenges later in the chapter. </p>"
   ]
  },
  {
   "cell_type": "markdown",
   "metadata": {},
   "source": [
    "![most frequent words](http://bioinformaticsalgorithms.com/images/Replication/Vib_cholerae_most_frequent_words.png)"
   ]
  },
  {
   "cell_type": "markdown",
   "metadata": {},
   "source": [
    "<p style=\"text-align: justify;\">The table above reveals the most frequent k-mers in the ori region from Vibrio cholerae (reproduced below), along with the number of times that each k-mer occurs.</p>"
   ]
  },
  {
   "cell_type": "markdown",
   "metadata": {},
   "source": [
    "<center>atcaatgatcaacgtaagcttctaagcatgatcaaggtgctcacacagtttatccacaac\n",
    "ctgagtggatgacatcaagataggtcgttgtatctccttcctctcgtactctcatgacca\n",
    "cggaaagatgatcaagagaggatgatttcttggccatatcgcaatgaatacttgtgactt\n",
    "gtgcttccaattgacatcttcagcgccatattgcgctggccaaggtgacggagcgggatt\n",
    "acgaaagcatgatcatggctgttgttctgtttatcttgttttgactgagacttgttagga\n",
    "tagacggtttttcatcactgactagccaaagccttactctgcctgacatcgaccgtaaat\n",
    "tgataatgaatttacatgcttccgcgacgatttacctcttgatcatcgatccgattgaag\n",
    "atcttcaattgttaattctcttgcctcgactcatagccatgatgagctcttgatcatgtt\n",
    "tccttaaccctctattttttacggaagaatgatcaagctgctgctcttgatcatcgtttc</center>"
   ]
  },
  {
   "cell_type": "markdown",
   "metadata": {},
   "source": [
    "For example, the 9-mer **ATGATCAAG** appears three times in the ori region of Vibrio cholerae—is it surprising?"
   ]
  },
  {
   "cell_type": "markdown",
   "metadata": {},
   "source": [
    "<center>atcaatgatcaacgtaagcttctaagc**ATGATCAAG**gtgctcacacagtttatccacaac\n",
    "ctgagtggatgacatcaagataggtcgttgtatctccttcctctcgtactctcatgacca\n",
    "cggaaag**ATGATCAAG**agaggatgatttcttggccatatcgcaatgaatacttgtgactt\n",
    "gtgcttccaattgacatcttcagcgccatattgcgctggccaaggtgacggagcgggatt\n",
    "acgaaagcatgatcatggctgttgttctgtttatcttgttttgactgagacttgttagga\n",
    "tagacggtttttcatcactgactagccaaagccttactctgcctgacatcgaccgtaaat\n",
    "tgataatgaatttacatgcttccgcgacgatttacctcttgatcatcgatccgattgaag\n",
    "atcttcaattgttaattctcttgcctcgactcatagccatgatgagctcttgatcatgtt\n",
    "tccttaaccctctattttttacggaaga**ATGATCAAG**ctgctgctcttgatcatcgtttc</center>"
   ]
  },
  {
   "cell_type": "markdown",
   "metadata": {},
   "source": [
    "<p style=\"text-align: justify;\">We highlight a most frequent 9-mer instead of using some other value of k because experiments have revealed that bacterial DnaA boxes are usually nine nucleotides long. The probability that there exists a 9-mer appearing three or more times in a randomly generated DNA string of length 500 is approximately 1/1300. For more details, see \"DETOUR: Probabilities of Patterns in a String\" in the [print companion](http://bioinformaticsalgorithms.com/).</p>"
   ]
  },
  {
   "cell_type": "markdown",
   "metadata": {},
   "source": [
    "<p style=\"text-align: justify;\">In fact, there are four different 9-mers repeated three or more times in this region: **ATGATCAAG**, CTTGATCAT, TCTTGATCA, and CTCTTGATC. The low likelihood of witnessing even one repeated 9-mer in the ori region of Vibrio cholerae leads us to the working hypothesis that one of these four 9-mers may represent a potential DnaA box that, when appearing multiple times in a short region, jump-starts replication. But which one?</p>"
   ]
  },
  {
   "cell_type": "markdown",
   "metadata": {},
   "source": [
    "<h1><center>Some Hidden Messages are More Surprising than Others</center></h1>"
   ]
  },
  {
   "cell_type": "markdown",
   "metadata": {},
   "source": [
    "<p style=\"text-align: justify;\">Recall that nucleotides **<span style=\"color:purple\">A</span>** and **<span style=\"color:green\">T</span>** are complements of each other, as are **<span style=\"color:skyblue\">G</span>** and **<span style=\"color:red\">C</span>**. Having one strand and a supply of “free floating” nucleotides, one can imagine the synthesis of a **complementary strand** on a **template strand**. This model of replication was confirmed rigorously by Meselson and Stahl in 1958. The beginning and end of a DNA strand are denoted 5’ (pronounced “five prime”) and 3’ (pronounced “three prime”), respectively. For more details, see \"DETOUR: The Most Beautiful Experiment in Biology\" in the [print companion](http://bioinformaticsalgorithms.com/).</p>"
   ]
  },
  {
   "cell_type": "markdown",
   "metadata": {},
   "source": [
    "The figure below shows a template strand **<span style=\"color:purple\">A</span><span style=\"color:skyblue\">G</span><span style=\"color:green\">T</span><span style=\"color:red\">C</span><span style=\"color:skyblue\">G</span><span style=\"color:red\">C</span><span style=\"color:purple\">A</span><span style=\"color:green\">T</span><span style=\"color:purple\">A</span><span style=\"color:skyblue\">G</span><span style=\"color:green\">T</span>** and its complementary strand **<span style=\"color:purple\">A</span><span style=\"color:red\">C</span><span style=\"color:green\">T</span><span style=\"color:purple\">A</span><span style=\"color:green\">T</span><span style=\"color:skyblue\">G</span><span style=\"color:red\">C</span><span style=\"color:skyblue\">G</span><span style=\"color:purple\">A</span><span style=\"color:red\">C</span><span style=\"color:green\">T</span>**."
   ]
  },
  {
   "cell_type": "markdown",
   "metadata": {},
   "source": [
    "![reverse_complement](http://bioinformaticsalgorithms.com/images/Replication/reverse_complement.png)"
   ]
  },
  {
   "cell_type": "markdown",
   "metadata": {},
   "source": [
    "<center>**Figure**: Complementary strands run in opposite directions. Each strand is read in the 5' → 3' direction.</center>"
   ]
  },
  {
   "cell_type": "markdown",
   "metadata": {},
   "source": [
    "<p style=\"text-align: justify;\">At this point, you may think that we have made a mistake, since the complementary strand in this figure reads out **<span style=\"color:green\">T</span><span style=\"color:red\">C</span><span style=\"color:purple\">A</span><span style=\"color:skyblue\">G</span><span style=\"color:red\">C</span><span style=\"color:skyblue\">G</span><span style=\"color:green\">T</span><span style=\"color:purple\">A</span><span style=\"color:green\">T</span><span style=\"color:red\">C</span><span style=\"color:purple\">A</span>** from left to right rather than **<span style=\"color:purple\">A</span><span style=\"color:red\">C</span><span style=\"color:green\">T</span><span style=\"color:purple\">A</span><span style=\"color:green\">T</span><span style=\"color:skyblue\">G</span><span style=\"color:red\">C</span><span style=\"color:skyblue\">G</span><span style=\"color:purple\">A</span><span style=\"color:red\">C</span><span style=\"color:green\">T</span>**. We have not: each DNA strand has a direction, and the complementary strand runs in the opposite direction to the template strand, as shown by the arrows in the figure. Each strand is read in the 5' → 3' direction. For more details, see \"DETOUR: Directionality of DNA Strands\" in the [print companion](http://bioinformaticsalgorithms.com/).</p>"
   ]
  },
  {
   "cell_type": "markdown",
   "metadata": {},
   "source": [
    "<p style=\"text-align: justify;\">Given a nucleotide p, we denote its complementary nucleotide as p(asterisk) . The **reverse complement** of a string Pattern = p<sub>1</sub> … p<sub>n</sub> is the string Pattern<sub>rc</sub> = p<sub>n</sub>(asterisk) … p<sub>1</sub>(asterisk) formed by taking the complement of each nucleotide in Pattern, then reversing the resulting string. We will need the solution to the following problem throughout this chapter:</p>"
   ]
  },
  {
   "cell_type": "markdown",
   "metadata": {},
   "source": [
    "**Reverse Complement Problem**: Find the reverse complement of a DNA string.\n",
    "\n",
    "   **Input**: A DNA String Pattern.  \n",
    "   **Output**: Pattern<sub>rc</sub>, the reverse complement of Pattern."
   ]
  },
  {
   "cell_type": "markdown",
   "metadata": {},
   "source": [
    "**Sample Input**: AAAACCCGGT"
   ]
  },
  {
   "cell_type": "markdown",
   "metadata": {},
   "source": [
    "**Sample Output**: ACCGGGTTTT"
   ]
  },
  {
   "cell_type": "code",
   "execution_count": 5,
   "metadata": {},
   "outputs": [
    {
     "name": "stdout",
     "output_type": "stream",
     "text": [
      "ACCGGGTTTT\n"
     ]
    }
   ],
   "source": [
    "def reverseComplement( s ):\n",
    "    return ''.join([complement(s[i]) for i in range(len(s)-1,-1,-1)])\n",
    "\n",
    "def complement( s ):\n",
    "    return {'A':'T','T':'A','C':'G','G':'C'}[s]\n",
    "\n",
    "seq = 'AAAACCCGGT'\n",
    "print(reverseComplement(seq))"
   ]
  },
  {
   "cell_type": "markdown",
   "metadata": {},
   "source": [
    "<p style=\"text-align: justify;\">Interestingly, among the four most frequent 9-mers in ori of Vibrio cholerae, **<span style=\"color:skyblue\">ATGATCAAG</span>** and **<span style=\"color:orange\">CTTGATCAT</span>** are reverse complements of each other, resulting in the six total occurrences of these strings shown below.</p>"
   ]
  },
  {
   "cell_type": "markdown",
   "metadata": {},
   "source": [
    "<center>atcaatgatcaacgtaagcttctaagc**<span style=\"color:skyblue\">ATGATCAAG</span>**gtgctcacacagtttatccacaac ctgagtggatgacatcaagataggtcgttgtatctccttcctctcgtactctcatgacca cggaaag**<span style=\"color:skyblue\">ATGATCAAG</span>**agaggatgatttcttggccatatcgcaatgaatacttgtgactt gtgcttccaattgacatcttcagcgccatattgcgctggccaaggtgacggagcgggatt acgaaagcatgatcatggctgttgttctgtttatcttgttttgactgagacttgttagga tagacggtttttcatcactgactagccaaagccttactctgcctgacatcgaccgtaaat tgataatgaatttacatgcttccgcgacgatttacct**<span style=\"color:orange\">CTTGATCAT</span>**cgatccgattgaag atcttcaattgttaattctcttgcctcgactcatagccatgatgagct**<span style=\"color:orange\">CTTGATCAT</span>**gtt tccttaaccctctattttttacggaaga**<span style=\"color:skyblue\">ATGATCAAG</span>**ctgctgct**<span style=\"color:orange\">CTTGATCAT</span>**cgtttc</center>"
   ]
  },
  {
   "cell_type": "markdown",
   "metadata": {},
   "source": [
    "<p style=\"text-align: justify;\">Finding a 9-mer that appears six times (either as itself or as its reverse complement) in a DNA string of length 500 is far more surprising than finding a 9-mer that appears three times (as itself). This observation leads us to the working hypothesis that **<span style=\"color:skyblue\">ATGATCAAG</span>** and its reverse complement **<span style=\"color:orange\">CTTGATCAT</span>** indeed represent DnaA boxes in Vibrio cholerae. This computational conclusion makes sense biologically because the DnaA protein that binds to DnaA boxes and initiates replication does not care which of the two strands it binds to. Thus, for our purposes, both **<span style=\"color:skyblue\">ATGATCAAG</span>** and **<span style=\"color:orange\">CTTGATCAT</span>** represent DnaA boxes.</p>"
   ]
  },
  {
   "cell_type": "markdown",
   "metadata": {},
   "source": [
    "<p style=\"text-align: justify;\">However, before concluding that we have found the DnaA box of Vibrio cholerae, the careful bioinformatician should check if there are other short regions in the Vibrio cholerae genome exhibiting multiple occurrences of **<span style=\"color:skyblue\">ATGATCAAG</span>** (or **<span style=\"color:orange\">CTTGATCAT</span>**). After all, maybe these strings occur as repeats throughout the entire Vibrio cholerae genome, rather than just in the ori region. To this end, we need to solve the following problem.</p>"
   ]
  },
  {
   "cell_type": "markdown",
   "metadata": {},
   "source": [
    "**Pattern Matching Problem**: *Find all occurrences of a pattern in a string*.\n",
    "\n",
    "   **Input**: Strings *Pattern* and *Genome*.  \n",
    "   **Output**: All starting positions in *Genome* where *Pattern* appears as a substring."
   ]
  },
  {
   "cell_type": "markdown",
   "metadata": {},
   "source": [
    "**Sample Input**:  \n",
    "ATAT  \n",
    "GATATATGCATATACTT"
   ]
  },
  {
   "cell_type": "markdown",
   "metadata": {},
   "source": [
    "**Sample Output**:  \n",
    "1 3 9"
   ]
  },
  {
   "cell_type": "code",
   "execution_count": 6,
   "metadata": {},
   "outputs": [
    {
     "name": "stdout",
     "output_type": "stream",
     "text": [
      "2 26 33 40 91 123 141 148 155 200 250 394 519 534 541 619 682 689 768 792 799 975 1001 1104 1241 1259 1266 1293 1381 1406 1543 1577 1584 1632 1639 1654 1661 1705 1771 1814 1821 1913 1928 1981 2035 2042 2049 2120 2155 2197 2242 2300 2393 2418 2484 2491 2508 2546 2553 2562 2594 2612 2652 2667 2674 2681 2688 2746 2753 2815 2837 2874 2941 2987 3048 3072 3106 3133 3169 3178 3237 3306 3348 3380 3387 3394 3401 3452 3467 3552 3569 3576 3594 3601 3622 3700 3716 3766 3841 3924 3931 3984 4026 4149 4170 4304 4357 4439 4446 4461 4610 4628 4675 4814 4821 4843 4858 4935 4993 5136 5151 5178 5208 5265 5296 5303 5310 5349 5367 5383 5424 5448 5601 5623 5646 5725 5760 5866 5892 5899 5924 5941 6013 6020 6042 6049 6069 6166 6333 6370 6409 6419 6426 6485 6520 6651 6700 6727 6764 6835 6931 6956 6995 7018 7080 7100 7146 7206 7315 7362 7431 7483 7581 7660 7677 7692 7707 7714 7723 7730 7737 7744 7751 7758 7791 7798 7893 7956 7963 7986 8044 8109 8141 8189 8238 8255 8262 8269 8320 8356 8407 8440 8447 8462 8496 8514 8529 8536 8552 8569 8576 8633 8660 8684 8703 8710 8717 8741 8756 8831 8854 8861 9005 9067 9124 9152 9176 9204 9257 9264 9299 9314\n"
     ]
    }
   ],
   "source": [
    "def patternMatching( pattern, text ):\n",
    "    return [i for i in range(len(text)-len(pattern)+1) if pattern == text[i:i+len(pattern)]]\n",
    "\n",
    "p = 'TCATGATTC'\n",
    "t = 'GATCATGATTCATGATTTCATGATCTTCATGATTCATGATTCATGATTCTCATGATCAATACGATGACATCATGATACAGCTCATGATATGTCATGATTCAGCTCATGATATCATCATGATTGTCATGATTCATGATACGCTCATGATTCATGATTCATGATTCTCATGATACTCATGATCGGTCATGATTATACGGCAATCATGATTCATGATTTCATGATCCCCGGGCGCATTCATGATCCCGAGCAGTCATGATTCATGATTATTCATGATTTCCATCATGATGTGCGATCATGATACCACCCATCTCATGATGTCATGATATCATGATCCTGCATCATGATGGTCATGATCTCATGATGATCATGATTGTTCATGATAATCATGATTATATCATGATTCATGATTACTCATGATTTCATGATGTATCATGATGCATCTTCATGATGGTCATGATGCCTTCATGATATCATGATCTCTCGTTCATGATGGAGGGAATGAGAGCTTCATGATCCCGCTCATGATTCATGATTTCATGATTCATGATTCATGATATCATGATGACTCATGATTTCACAGTCATGATTTCGTCATGATTATCATGATTTCATGATTTTTTCATGATTCATGATTGTCATGATATCATGATGCTCATGATCGTCTTATCATGATTTCATGATCTCATGATTCATGATTCATGATGTCATGATGTCATGATGCTCAGCCGCCGTCATGATGAGCTCATGATAATCATGATGAGGGGGAAGTCATGATTCAACATTCATGATCTTTCATGATTCATGATTCATGATGTCATGATTTCATGATCCTTCATGATATGGACTTCATGATGCAGGCATCTGCTCATGATACCACTGGGAAAGCGGGGATCATGATACTGGTCATGATCGGCTCGATTGGAATTCATGATTGAGCCCACGTCATGATAATTCATGATGTCTCATCATGATAATTCATGATTCATGATAACTCATGATAGTCATGATTCATGATGTACCTCATGATCTTGTATCATGATGTCATGATTGCTCATGATCTCATGATGATCATGATCGCTATCATGATGCTTTCATGATTAACCATCATGATTCATGATCCTCATGATGTATCATGATCCGAGCTCATGATGTCATGATCAGCCCTCATGATGTTCTCCTCATGATGCGCTCATGATACTACGGGTCATGATCTTCATGATACGTCATGATAGCTCATGATCTCATGATTCATGATTACATCATGATTCATGATTCATGATTTTTCATGATAGTTCATGATTCATGATGGATTCATGATATGTCATGATGTACAGTCATGATCTCATGATAAGAGGCAGTCATGATCGTGTCTCATGATTTCTCATGATTCATGATCTCATGATAGATCATGATTCATGATAGTTTAGTCTTTAGTGCGTACCATTCATGATCTTATCGATCATGATCAGGTCGTATGTCATGATTTCATGATCCTTCATGATCTCATGATTGGGTACACTTCATGATACGTCTCATGATCAACTCATGATTCATGATTTCATGATAAGTCATGATCATCATGATTCATGATTCATGATGTCATGATGTCATGATGGGTTCCTTCATGATCGTTCATGATTCATGATTCATGATGTCATGATTCATGATTCATGATGGTTCATGATCATTCATGATTGTCATGATATCATGATTCATGATATCATGATATCATGATCATCATGATGTATCATGATGTCATGATTTCATGATCTCATGATTCCCGTTTTCATGATGTGTTCAACGGATCATGATAGTCATGATTCATGATTCATGATCTCACATCATGATGATCATGATCTAGCCTCATGATATCATGATATAGTGAGCTGGTGCTTCATGATCTTCATGATAGATCATGATTCATGATGTCATGATTCTTTCATGATGTCATGATGGTCATGATTTCATGATAAGATCTTACTCATGATTCATGATGTCGACTGGTCATGATCGATCATGATAACTCATGATCGTTTCATGATTCATGATTCATGATTCATGATCGTTTTTCATGATGCAGCTCATGATCTCATGATCGGGATGTTAATGGATACACGACCTCATGATTCATGATGCTCATGATCTCATGATGCCGTCATGATTCATGATTATCATGATCCGTGGAACTCATGATACCTCATGATTCATGATCCTCATGATATCATGATTTCCGTCATGATCGTCATGATTCATGATTTTCATGATCCAGTCATGATTTCATGATACCTCATGATACTTTCTCATGATTCATGATCCTCATGATTTTCATGATATCATGATCATCATGATCCGTCATGATGTCATGATGGACTGCGTTGCTTGCTCATGATTACTCATGATTCATGATGTCATGATGTGTCATGATTCATGATGTCATGATCATTGTCTCATGATCTCATGATATGTCATGATTTTCATGATACCTCATGATTCATGATTCATGATTGGTCATGATTCATGATTTCATGATGAGTTTCATGATCCGTTCATGATTCATGATTCTCATGATTCAAGTCATGATGATGTCATGATACTCATGATTCTCATGATTTTCATGATTCATGATGCCCGATCATGATCTCATGATAGGATTCATGATTCATGATTTCATGATTCATGATTCATGATTCATGATTCATGATTTCCCTCATGATCAATCATGATGAATCATGATCTCGAGCCTCTGTCATGATTCATGATTCATGATGGGATTCTCATGATGCTCATGATGCTCTCTCATGATGCTCATGATAGATCATGATTCATGATTAGTAGGTTCATGATTCATGATGTAAGGTTATCATGATCATCTTCTCATGATTCATGATAGTCATGATGTCATGATATCTTCGAACTCATGATAAACCGCATGATCATGATGTCATGATTCATGATTGTTCATGATGTAGTCATGATGTCTCATGATGTCATGATTCATGATTGGTCTCATGATGGTTCATGATACAGTCATGATTGACCCGTGGGGGATCATGATTCATGATGTTCATGATTTCATGATTCCTTGTTGTCATGATCTCATGATACATCATGATTCATGATCTCATGATGTTTGTCATGATTCATGATGATCATGATATCATGATCCTTCTCATGATTCTCATGATTCATGATACTTATCGTCATGATTTCATGATCTACCGTCATGATGTCATGATGTCATGATTCCTCATGATGTTGGTTCCCAGTCATGATGTATAACTTCATGATATTCATGATATCATGATGTCATGATTCATGATCGATCATGATCATCTCATGATCCCAGTTTCATGATTCATGGCTCATGATGGGTCATGATCTCATGATTCATGATTCATGATTCATGATTCATGATCTCATGATCACTCATGATCATCATGATTTCATGATGCTCATGATTCATGATATCATGATTCATGATGAGCTTTGTCATGATGCTTCATGATCTCATGATCCCTCTATTCATGATAGTCATGATCAGGTATCATGATCTCATGATTCATGATGTCTCATGATTCATGATTCGCGTTAAGCTCATGATTCATGATTCTCATGATAGACCTCATGATTCATGATAATCATGATATCAGATCTCATGATTATTTCATGATGTCATGATTGGGTCATGATATCATGATGTTCATGATTCATGATACTCATGATTCATGATATCATGATTATTGACCGCTCATGATTATCATGATTATCATGATTCATGATCTAGGCTCTCGACAAATCATGATTTTCATGATTGTCATGATGCTCATGATACATCATGATCTCATGATTCATGATGCGCCTCCTTTCATGATTGTTCATGATGTCATGATGCGTCATGATAATTCATGATACCGATTCATGATTTCATGATTCATGATTCATGATCTCATGATAATCATGATAGATCTCATGATAGCCAAGACATCATGATTCATGATGATCATGATGTATCATGATATCATGATCTCATGATTCATGATAGTCATGATCATCATGATATCATGATCTGCTCAGAATCATGATGATAGGTCATGATCTCATGATCTCATGATACTCGGTCATGATGTAGCTCATGATCGCGTCATGATGTCATGATTCATGATGAAACCCTCATGATTCTCATGATGATCATGATAACTCATGATTAATTCCCAGAAAATTCTTCATGATCTCATGATGATCATGATGACTCATGATTGGCGGTGGATCTTACTCATGATGAGGGGTCGCCTCATGATCTAGACTCATGATTCACTTCATGATATATGGTCATGATGCTTTCATGATGATCATGATCTCATGATTCATGATAGTCTCATGATTTCATGATTTCTGCAGCTTCATGATGTATCATGATTAAATTGAATCTGTCATGATGCTCATGATTCATGATTCATGATCTCATGATTCATGATCTCATGATGCTTCATGATGCCCTCATGATATTGGCTTCATGATGGATATCATGATAATTCATGATACGATCATGATAATCATGATGCAATCATGATGTCATGATTTAGGGGCGATCATGATTGTCATGATGCTTATCATGATTCATGATTAGCTCATGATTCATGATGAAATTCATGATTTTCATGATATCATGATGGGATCATGATTCAGATCATGATGCTAATGTAACTGTTCTCATGATTTCATGATACCCTATCATGATCGTTCATGATAGTCATGATACGTCATGATTTCCCGTTTCATGATGGATCATCATGATTTCATGATCTCATGATATGTCATGATTCATGATTCATGATCAAGCGAATCATGATTCATGATGTCATGATTCATGATGAGATCATGATTTGGCGACTAAACGTCATGATCTAACTGTCATGATGTCATCATGATCTAGTGTCATGATTCATGATTACCCAGTCATGATGTCATGATGTGGTCATGATGGTCATGATGTTCATGATTCATGATTATTCATGATATAATGATCATGATATCATGATAAATCTCATGATACTACGTCATGATGTCACGTCATGATTTCATGATTGTACTCATGATGTCATGATAGATTCATGATTTTCATGATACCTCATGATCTCATGATTCATGATATCATGATTCATGATGTCTCATGATGCTTCATGATTCATGATTACTACTGTCATGATCTCATGATTCATGATCCCACATGTCATGATTTCATGATTTCTCATGATGCTCATGATGTCATGATTCATGATCTACATCATGATCGCATTCATGATTCATGATTCATGATTCATGATAGGTTCATGATTTATCATGATATTCTCATGATTCAGCATCTGGTCATGATTCATGATACTCATGATTCATGATTAGTTCATGATCCTCATGATGTTTCTCTCATGATTCCCTCAACTCATGATATCATGATTCATGATCACTTCATGATCAGCGATACACGTCATGATGAATCATGATATCATGATTAGTCATGATATTCATGATGACTCATGATGTCATGATCAGTCATGATGAATCATGATAGGTCATGATGGTCATGATGATCATGATGGGGGATCATGATTCATGATTTCGCTCATCATGATTCATGATATCATGATATCATGATTCATGATGATCTCATGATTTCATGATGTATCATGATCGTGTCATGATAAAGAGATCCGATCCGTCATGATGCTCATGATTCTCATGATGATCATGATCTCATGATACTCATGATTCATGATTATCATGATCAGTCATGATGGAAAGTCATGATATCATGATGTCGGTCATGATGTCATGATATTCATGATCACTTTCATGATGTATCTAATTGTCATGATTCATGATTTCATGATACAGTCATGATTCATGATTCATGATACTCATGATTGTCATGATTCATGATGAATCATGATTCATGATCTCGTGCTCCCCGTTGCAGATCATGATAATCATGATGTCATGATCCGCGTCATGATACTCATGATTCATGATTCATGATAAGTCTAATCATGATTCATGATTCATGATTGTAACTCATGATTCATGATTTCCCTGTGTATCATGATGGTCATGATTTCCCCTCATGATTTAAGTTCATGATGCTTATTCCGCTTTCATGATGACCCTTGTGTCATGATTCATGATACTTATCATGATCTTCATGATTTCATGATATGTCATGATGACTTTGTCATGATCTGAAGTGAATCATGATATCATGATCTGTATCATGATCTTATCATGATAAGTCATTCATGATCCGTATCATGATATCATGATCATCTCTCCTCATGATAATCATGATTCATGATACTGGTCATGATTTCATGATTTCTCATGATTCATGATGTACAGAAGGGCTCATGATTGTCGATCATGATTCGTCATGATTCATGATTCATGATGCTCATGATTTCATGATGTCATGATGTTTCATGATCTTCATGATGTCATGATTCATGATAGGCGTTCAAAATCATGATTTTCATGATTCCTCCTCATGATACCTCATGATGGACCTCATGATGTAATCATGATAACTCATGATCCATCATGATAGTAATCATGATCGACGCTCATGATGTCATGATGCGCGATTATAACTCATGATCCGTGTCATGATTCATGATAGTTCATGATGTATCAAGTTTTTGTGTTCATGATATCATGATTCCTCATGATCCCCATTCCATCATGATTCATGATGTCATGATATCACTGTTCGTGTTTCATGATTCATGATAAAATCATGATTTCATGATATCATGATGTTCATGATCTCATGATAATCATGATTATATCATGATTCATGATTATCATGATAGTCATGATGTCATGATCCACCTCATGATAATGAAAGGACTTATCATGATCTCATGATGTGCGTCATGATATCTCATGATTCATGATTTCATGATTGATCATGATTCATGATCAACGCGCTCATGATCTCCTTCTGGTCATGATTCATGATTTCATGATGTCATGATTCATGATAGTCATGATATCATGATCCTCATGATCTCATGATTTCTTCATGATCGCTCATGATTCATGATCTGTTTTCATGATTCATGATCATCATGATTATCATGATATCATGATAGTGGGTCATGATTCATGATTTTGTCCCATCATGATGTTCATGATACAACTGAGACCTCATGATGATCATGATTCATGATATCTCATGATTATTCATGATCTATGTCATGATTTCATGATCGATTCATGATAATATCATGATGTCATGATTAGATCTCATGATGGTATCATGATTTCATGATTCTCATGATCCGAATCATGATGTCATGATCCTCATGATCGTCATGATTCATGATTGTCATGATTTCATGATGCTCATGATCTAAACACGTCATGATCTCATGATCATCGTCATGATTCATGATCATCATGATTGGCTCATGATCTTCATGATCTCATGATGTCATGATTCATGATGTTCATGATCTTTCATGATTAGGAGTCATGATCATCATGATATGTCATGATCAGAATCATGATCCATCATGATTATTCATGATTTCATGATTCTTCATGATGTCACCGTTACACTCATGATTATCATGATCCATCATGATATCTCATGATCACTCATGATCATTCATGATTCATGATACATCATGATTCATGATGTCATGATTCATGATGTCATGATTCATGATTCTCATGATTCATGATTCATGATTCATGATTCATGATTCATGATTCATGATCTCATGATCACTCATGATATCATGATTCATGATTCTCATGATGATACTCATGATCATCATGATCTCATGATGGTCATGATGCGTCATGATAATCATGATTTCGTTTCATGATATCATGATTTCATGATTCATGATTTTCCAGGCTCATGATCCCACAGCTCATGATAGACTCATGATTGATCGTTCATGATTCATGATTCATGATATCATGATGTCATGATTCATGATCTCATGATGATTCATGATATCATGATGTGACCGGTCATGATAATTCATGATTCATGATACACGCCCCTCGCCCATCATGATGTCATGATCTCATGATGTTTCATGATTATCATGATTCATGATGACTGTGGTCTCATGATTTCATGATTCATGATATGTCATGATTTCATGATCTCATGATCATTTGGATCATGATTCATGATGTTTAAGGTTCATGATCTCGGCGTCATGATCATGGTCATGATTCATGATAGTTCATGATTCATGATTCATGATTCATGATATTCATTAGTCATGATCTGTCATGATAATTCATGATATCATGATTCTTCATGATTATCATGATTTCATGATTATCATGATTCATGATCTGTCATGATCATCATGATCTCTTTACTGTCATGATTTCATGATTCATGATTATTGTTCATGATCACGTCTCATGATTCATGATTCATGATTTCATGATTCATGATTGCTCATGATTTCATGATTGTCATGATTCATGATATCGTCATGATTCATGATCTCATGATTCATGATTCTTATGAATCATGATTCATGATGGCTCATGATTCATGATTCATGATACTCATGATGATGTCATGATGCAATTAATCATGATTTTGCGCGTCATGATTCATGATATCATGATGCAGTTCATGATTCATGATGTTCATGATATCATGATTCTCATGATCGTTCATGATTCATGATTCATGATTCATGATATCATGATTGTCATGATTCGTGGACTCATGATTCATTCATGATCATTCATGATTTCATGATGCTTCCAATTCATGATTATCATGATGGCTCATGATGGGTTCATGATTCATGATCTCATGATGTCATGATTCATGATTCATGATTTCTTCATCATGATAGTTCATGATTGTGTGGTCATGATCGTCATGATGAGCGTCATGATATCGCAATCATGATAATCATGATCCATCATGATGTTCATCATGATGCTGTGCTCATGATGCCTTGTCGTTTTCATGATTCATGATCTGATCATGATATCATGATGTTCATGATCTTCATGATCTTTCATGATCTCATGATTCATGATACCTCATGATAACTCATGATCGCGTCATGATTTGTCATGATATTCATGATTCATGATTGTGTCATGATTTATCATGATTCATGATGGTCATGATCTCATGATTCATGATGCTCATGATCTTAGTCATGATTCATGATATCTCATGATGCTCATGATGTCATGATCTCATGATTTGTTCATGATTCATGATTCATGATATATCATGATATCATGATCTATCATGATTCCTCATCTCATGATTCATGAT'\n",
    "print(' '.join([str(i) for i in patternMatching(p,t)]))"
   ]
  },
  {
   "cell_type": "markdown",
   "metadata": {},
   "source": [
    "<p style=\"text-align: justify;\">After solving the Pattern Matching Problem, we discover that **<span style=\"color:skyblue\">ATGATCAAG</span>** appears 17 times in the following starting positions of the Vibrio cholerae genome:</p>"
   ]
  },
  {
   "cell_type": "markdown",
   "metadata": {},
   "source": [
    "<center>116556, 149355, **151913**, **152013**, **152394**, 186189, 194276, 200076, 224527,\n",
    "307692, 479770, 610980, 653338, 679985, 768828, 878903, 985368</center>"
   ]
  },
  {
   "cell_type": "markdown",
   "metadata": {},
   "source": [
    "<p style=\"text-align: justify;\">With the exception of the three occurrences of **<span style=\"color:skyblue\">ATGATCAAG</span>** in ori at starting positions **151913**, **152013**, and **152394**, no other instances of **<span style=\"color:skyblue\">ATGATCAAG</span>** form **clumps**, i.e., appear close to each other in a small region of the genome. You may check that the same conclusion is reached when searching for **<span style=\"color:orange\">CTTGATCAT</span>**. We now have strong statistical evidence that **<span style=\"color:skyblue\">ATGATCAAG</span>/<span style=\"color:orange\">CTTGATCAT</span>** may represent the hidden message to DnaA to start replication.</p>"
   ]
  },
  {
   "cell_type": "markdown",
   "metadata": {},
   "source": [
    "<h3><center>An Explosion of Hidden Messages</center></h3>"
   ]
  },
  {
   "cell_type": "markdown",
   "metadata": {},
   "source": [
    "<h3><center>Looking for hidden messages in multiple genomes</center></h3>"
   ]
  },
  {
   "cell_type": "markdown",
   "metadata": {},
   "source": [
    "<p style=\"text-align: justify;\">We should not jump to the conclusion that **<span style=\"color:skyblue\">ATGATCAAG</span>/<span style=\"color:orange\">CTTGATCAT</span>** is a hidden message for all bacterial genomes without first checking whether it even appears in known ori regions from other bacteria. After all, maybe the clumping effect of **<span style=\"color:skyblue\">ATGATCAAG</span>/<span style=\"color:orange\">CTTGATCAT</span>** in the ori region of Vibrio cholerae is simply a statistical fluke that has nothing to do with replication. Or maybe different bacteria have different DnaA boxes…</p>"
   ]
  },
  {
   "cell_type": "markdown",
   "metadata": {},
   "source": [
    "<p style=\"text-align: justify;\">Let's check the proposed ori region of Thermotoga petrophila, a bacterium that thrives in extremely hot environments; its name derives from its discovery in the water beneath oil reservoirs, where temperatures can exceed 80° Celsius.</p>"
   ]
  },
  {
   "cell_type": "markdown",
   "metadata": {},
   "source": [
    "<center>aactctatacctcctttttgtcgaatttgtgtgatttatagagaaaatcttattaactga\n",
    "aactaaaatggtaggtttggtggtaggttttgtgtacattttgtagtatctgatttttaa\n",
    "ttacataccgtatattgtattaaattgacgaacaattgcatggaattgaatatatgcaaa\n",
    "acaaacctaccaccaaactctgtattgaccattttaggacaacttcagggtggtaggttt\n",
    "ctgaagctctcatcaatagactattttagtctttacaaacaatattaccgttcagattca\n",
    "agattctacaacgctgttttaatgggcgttgcagaaaacttaccacctaaaatccagtat\n",
    "ccaagccgatttcagagaaacctaccacttacctaccacttacctaccacccgggtggta\n",
    "agttgcagacattattaaaaacctcatcagaagcttgttcaaaaatttcaatactcgaaa\n",
    "cctaccacctgcgtcccctattatttactactactaataatagcagtataattgatctga</center>"
   ]
  },
  {
   "cell_type": "markdown",
   "metadata": {},
   "source": [
    "<p style=\"text-align: justify;\">This region does not contain a single occurrence of **<span style=\"color:skyblue\">ATGATCAAG</span>** or **<span style=\"color:orange\">CTTGATCAT</span>**! Thus, different bacteria may use different DnaA boxes as \"hidden messages\" to the DnaA protein.</p>"
   ]
  },
  {
   "cell_type": "markdown",
   "metadata": {},
   "source": [
    "<p style=\"text-align: justify;\">Application of the Frequent Words Problem to the ori region above reveals that the following six 9-mers appear in this region 3 or more times:<p>"
   ]
  },
  {
   "cell_type": "markdown",
   "metadata": {},
   "source": [
    "**<p style=\"text-align: center;\">AACCTACCA   AAACCTACC   ACCTACCAC</p>**  \n",
    "**<p style=\"text-align: center;\">CCTACCACC   GGTAGGTTT   TGGTAGGTT</p>**"
   ]
  },
  {
   "cell_type": "markdown",
   "metadata": {},
   "source": [
    "<p style=\"text-align: justify\">Something peculiar must be happening because it is extremely unlikely that six different 9-mers will occur so frequently within the same short region in a random string. We will cheat a little and consult with <span style=\"color:skyblue\">Ori-Finder</span>, a software tool for finding replication origins in DNA sequences. This software chooses **<span style=\"color:darkgreen\">CCTACCACC</span>** (along with its reverse complement **<span style=\"color:purple\">GGTGGTAGG</span>**) as a working hypothesis for the DnaA box in Thermotoga petrophila. Together, these two complementary 9-mers appear five times in the replication origin:</p>"
   ]
  },
  {
   "cell_type": "markdown",
   "metadata": {},
   "source": [
    "<center>aactctatacctcctttttgtcgaatttgtgtgatttatagagaaaatcttattaactga\n",
    "aactaaaatggtaggttt**<span style=\"color:purple\">GGTGGTAGG</span>**ttttgtgtacattttgtagtatctgatttttaa\n",
    "ttacataccgtatattgtattaaattgacgaacaattgcatggaattgaatatatgcaaa\n",
    "acaaa**<span style=\"color:darkgreen\">CCTACCACC</span>**aaactctgtattgaccattttaggacaacttcag**<span style=\"color:purple\">GGTGGTAGG</span>**ttt\n",
    "ctgaagctctcatcaatagactattttagtctttacaaacaatattaccgttcagattca\n",
    "agattctacaacgctgttttaatgggcgttgcagaaaacttaccacctaaaatccagtat\n",
    "ccaagccgatttcagagaaacctaccacttacctaccactta**<span style=\"color:darkgreen\">CCTACCACC</span>**cgggtggta\n",
    "agttgcagacattattaaaaacctcatcagaagcttgttcaaaaatttcaatactcgaaa\n",
    "**<span style=\"color:darkgreen\">CCTACCACC</span>**tgcgtcccctattatttactactactaataatagcagtataattgatctga</center>"
   ]
  },
  {
   "cell_type": "markdown",
   "metadata": {},
   "source": [
    "<center><h3>The Clump Finding Problem</h3></center>"
   ]
  },
  {
   "cell_type": "markdown",
   "metadata": {},
   "source": [
    "<p style=\"text-align: justify\">Now imagine that you are trying to find ori in a newly sequenced bacterial genome. Searching for “clumps” of either **<span style=\"color:skyblue\">ATGATCAAG</span>/<span style=\"color:orange\">CTTGATCAT</span>** or **<span style=\"color:darkgreen\">CCTACCACC</span>/<span style=\"color:purple\">GGTGGTAGG</span>** is unlikely to help, since this new genome may use a completely different hidden message! Before we lose all hope, let’s change our computational focus: instead of finding clumps of a specific k-mer, let’s try to find every k-mer that forms a clump in the genome. Hopefully, the locations of these clumps will shed light on the location of ori.</p>"
   ]
  },
  {
   "cell_type": "markdown",
   "metadata": {},
   "source": [
    "<p style=\"text-align: justify\">Our plan is to slide a window of fixed length L along the genome, looking for a region where a k-mer appears several times in short succession. The parameter value L = 500 reflects the typical length of ori in bacterial genomes.</p>"
   ]
  },
  {
   "cell_type": "markdown",
   "metadata": {},
   "source": [
    "<p style=\"text-align:justify\">We defined a k-mer as a \"clump\" if it appears many times within a short interval of the genome. More formally, given integers L and t, a k-mer Pattern forms an **(L, t)-clump** inside a (longer) string Genome if there is an interval of Genome of length L in which this k-mer appears at least t times. (This definition assumes that the k-mer completely fits within the interval. This also does not take reverse complements into account yet.) For example, **TGCA** forms a (25,3)-clump in the following Genome:</p>"
   ]
  },
  {
   "cell_type": "markdown",
   "metadata": {},
   "source": [
    "<center>gatcagcataagggtcccC**TGCA**A**TGCA**TGACAAGCC**TGCA**GTtgttttac</center>"
   ]
  },
  {
   "cell_type": "markdown",
   "metadata": {},
   "source": [
    "From our previous examples of ori regions, **<span style=\"color:skyblue\">ATGATCAAG</span>** forms a (500,3)-clump in the Vibrio cholerae genome, and **<span style=\"color:green\">CCTACCACC</span>** forms a (500,3)-clump in the Thermotoga petrophila genome. We are now ready to formulate the following problem."
   ]
  },
  {
   "cell_type": "markdown",
   "metadata": {},
   "source": [
    "**Clump Finding Problem**: Find patterns forming clumps in a string.  \n",
    "     **Input**: A string Genome, and integers k, L, and t.  \n",
    "     **Output**: All distinct k-mers forming (L, t)-clumps in Genome."
   ]
  },
  {
   "cell_type": "markdown",
   "metadata": {},
   "source": [
    "<p style=\"text-align:justify\">You can solve the Clump Finding Problem by applying your algorithm for the Frequent Words Problem to each window of length L in Genome. However, if your algorithm for the Frequent Words Problem is not very efficient, then such an approach may be impractical. For example, recall that **FrequentWords** has O(L<sup>2</sup> · k) running time. Applying this algorithm to each window of length L in Genome will result in an algorithm with O(L<sup>2</sup> · k · |Genome|) running time. Moreover, even if we use a faster algorithm for the Frequent Words Problem (like the one described in [**Charging Station**: The Frequency Array](https://stepik.org/lesson/2994/step/1?unit=8234)), the running time remains high when we try to analyze a bacterial — let alone human — genome. Check out [**Charging Station**: Solving the Clump Finding Problem](https://stepik.org/lesson/3012/step/1?unit=8237) to learn about a more efficient approach for solving the Clump Finding Problem.</p>"
   ]
  },
  {
   "cell_type": "markdown",
   "metadata": {},
   "source": [
    "**<p style=\"text-align:justify\"><span style=\"color:green\">Code Challenge</span>**: Solve the Clump Finding Problem (restated below). You will need to make sure that your algorithm is efficient enough to handle a large dataset.</p>"
   ]
  },
  {
   "cell_type": "markdown",
   "metadata": {},
   "source": [
    "**Clump Finding Problem**: Find patterns forming clumps in a string.  \n",
    "     **Input**: A string Genome, and integers k, L, and t.  \n",
    "     **Output**: All distinct k-mers forming (L, t)-clumps in Genome."
   ]
  },
  {
   "cell_type": "markdown",
   "metadata": {},
   "source": [
    "**Sample Input**:\n",
    "\n",
    "CGGACTCGACAGATGTGAAGAACGACAATGTGAAGACTCGACACGACAGAGTGAAGAGAAGAGGAAACATTGTAA  \n",
    "5 50 4"
   ]
  },
  {
   "cell_type": "markdown",
   "metadata": {},
   "source": [
    "**Sample Output**:\n",
    "\n",
    "CGACA GAAGA"
   ]
  },
  {
   "cell_type": "code",
   "execution_count": 9,
   "metadata": {},
   "outputs": [
    {
     "name": "stdout",
     "output_type": "stream",
     "text": [
      "CTTCTACGT ACGTGATAC TCTGTTGCA CCTAGAGCA CTGTCCAAT CCCATAGAT TGGGGAGTA\n"
     ]
    }
   ],
   "source": [
    "def clumpFinding( s, k, L, t ):\n",
    "    out = []\n",
    "    for start in range(len(s)-L+1):\n",
    "        window = s[start:start+L]\n",
    "        counts = {}\n",
    "        for i in range(len(window)-k+1):\n",
    "            if window[i:i+k] not in counts:\n",
    "                counts[window[i:i+k]] = 0\n",
    "            counts[window[i:i+k]] += 1\n",
    "        for kmer in counts:\n",
    "            if counts[kmer] >= t and kmer not in out:\n",
    "                out.append(kmer)\n",
    "    return out\n",
    "\n",
    "s = 'GCCATACTTGCGTCCCCGTGACACTTAATAGACGACTGGGTTTGGAACTAGAAGTTTAACTGAAATTGGCGTCGCAACGGTGTCGGTTGCTTGACGTTGGTCACCTCGGGTACGGGGATCGAGATCTGTCTGCCGAGCACATGGGAGGGGGGCTCGTAAAATCGACAGTATGTGTTCCCCCCTGGGTACCTGCTTGTTTTCCACCGGCATATGTTCGCGGTGATAGGTGTCACGGACGGGTCAAGTGGACATTTCATGGCTGCGAGTTTGTCAAACTGAGACAGCTGGGCTAGGTGTACGGGATGGATTTGTATTGGGGTTGCCTCTTTGACTGAAACTCTATACTGGGGGCCGGGCTGGTCGCCCAAGGCGTCCGGGGCCAGGTGAATTCGGAACAACATATACTTCTACGTCTTCTACGTTCAGCAGATAGTCTTCTACGTCTGAAATCTTCTACGTTTTCTCACCTCGGTCACGCGCCCGTGTAAAACCTTCTACGTTACATGCTCCGCGTCCTCTTCTACGTGTGACTTCTACGTATATCCTTTCGGTGTGTGTCTATGCTTCTACGTAATACACTAGACGTTCCCACTTCTACGTCATCATCCTTCCTTCTACGTCTTCTACGTGCAAGCTATGAATGAACCTACACTCTTCTACGTATACACTTCTACGTGCTTCTACGTCATGAAGCCTCTTCTACGTCTTCTACGTAACTGCCTGCCATAGGTGCTGGTTCGTAAGGGCCGAGTATTGTTTAGATTCTGCCACCCTTTGCTTCTACGTCAGGTCTTCTATTATAATTCTTCTACGTGTAGACACAGTCGGGGGCTTCTCTGTAGTACTTATAATTCCTACTCTTTATAATTCTACTTTATAATTCATTATAATTCAGTGGTCCCGCAGCACCTTCCTGTAGTACGTCTTCTACGTAAGCTGTAGTACACAGTACCTTCCTCTGTAGTACTAGTTTATAATTCGTACCCTGTAGTAACGTACGTGATACTACGTGATACGTACCCTTTATAATTCATAATTTTAACGTGATACGATACAAACGTACGTGATACTATAATTCTGTAGTACAATGTGACCTTTTATACGTACGTGATACGTCTACGTGATACTTATAATACGTGATACGTGATACCCGCCTCGGACTTATACGTGACGTGATACACTCTATAATTCTGATTAAACGTGATACATAATTCATTGCTACGTGATACCACCATTATAATTCACCTGTAGTACCACGACGTGATACATTTGCACGTGATACCGGGCTTCTTATAATTCACGTGAACGTGATACATACCCTGTAGTACGTTATAAACGTGATACTATAATTCTGGGAGTTTATAAACGTGACGTGATACATTACGACGTGATACACACTGTAGTACTCCTGTAGTACCGGACCCACCCTTTCGGTGCGACGTGATACCGATAGTCGGGTGACGTGATACGTGATACGCCTCACGTGATACTGATACCTGGAACACAGAACGTGATACGTCGGACTGGCGGACGCCACGGGCACTTTTGTGGTAAATAACTGAGGCTAACGGAATCTCACAAGCATTTGAAGTACGCAAATGATCTCCTTGCGATATCAAGCCCTTTCTTGCCGAACGCCTGGTTCTGCGGCCCTAGACTCATGGGGATTCGGCCCTTGATACATCAGCGTAAGAATATCCTAGCTCATCCCAGAACTCGGTGGAGCCACTATTAGAGAACCACGCTATCCGAGAAGCTCTAAAAGGAACCGCTCTGCCGAGGGTTTCAGTAAATGTGTTAGGTAAAGGCGCGCGTGGTTCTGTAATCTTGTGTCCTTCGTTATGCTTTACACCCGAGATCTCGTCAGATTTCGTAAAACAGTACGGGCATTAACAGTCGATATTGGGTCCCACCCTTAACGGGCTATAGACTGCGGTTCCCGACCTGAGTCCGATTAGCCTCGCCAGGATGCCACCGCCCGGAACTGTTCGGGTTTACTTTAGTCTTCGGTCTCGGTGTCAATCGGACTGTACTTAGAAAGTCATAATGGAATGTCCAAGGATGGGTGCCCTTTAGAAAGTGTCTGGTTTCATCGTGTCGTCAGAAAAGGGGTAGTCTTAAGGTATGGACTGGATACTTACACAGAATAGCCTATATAAACCTGTCCACGACTCGTACTCTAGTGAAGCTAGATCACCGATCAGTTTTCCATTTGCCGTCAAGATGTTAAACAAGCGACTTAGTGCCTCCGGGTCATAACTGCGAGGAGCCCCGGGGAATACGACGCAGCCAACGACACTTCGTGCCCATTCATCTAGCACGCCGGGTAATATGTGGCTCGTGAACACTGCCACTGACAGAAGCTCCGAGAACTGGCATGAGTGGACCGGACCATCCTTGGATCGATTATCCGCGCACTTAGACTTCACGTATGTACAATAATCTGTGACATTCCATGCTCGTCGTTCATAAACACTTACTGAGTAACCGATACCGGTGAAGGTACCGTCCCCCGTACTTGACGGGATAGCCATATTTGGCGTTATCGTGTTAAGGGAAAATAGCGCCCGACTCAAACTCTGTTGCACAAAATCTGTTGCAACTCTCTGTTGCAGACGATAAAACAAACGTTCGGGTAGAAACTCTCGCGTCTCCTGGGGCTGTCTAACGCAAAGTCTGTTGCACCGCTACATTATGTCTGTTGCATAGTCTGTTGCAGTCTTCTGTTCTGTTTCTGTTGCACATGGAGCTCTGTTGTCTGTTGCAGACAGTCGTCTGTTGCACTCTGTTGCACTTTCTTTATTTCTGTTGCACAGTCTGTTGCATGTTGCATGCTTACATTCTTCTTCTGTTTCTGTTGCACATTATAAACCTATAATGTGCAGAGTTTCGGAGGATCTCTGTTGCACGCTACAGATCTTATAAAGTGAAAGGATTAGTTTCCTTGTGTAGGGTCTGTTGCAACCGTCTGTTGCAATCTGTTGCATTCGACGTTGCAATTGTGGCGATTCTGTTGCATTCTAGCCCGAGGTCTGTTGCACCATATCTCTCTGTTGCACAGTATACTAACTACGTCCGTTTACCTCTGTTGCAGCATGGTAAAGCCCATGACTTAACTTCGATACGGGCCACAACAACTCTGTTGCAAATACGATAGTCCAGCCACCTGACCATCGCTAATTTCAGTCGCATCACGCAACGCCAACATACATGACGCTGTACAATACTCTAGCTTTCTCCGCTACGCCGACTGCGGGCAGTTGCTGCACGCCGTTTGTGCTTTACTGTAAAACTGAATGAGCTCATATACTACCCCATGGGGCAATCAACCGCCTGCGGATAAGTGTGGGGGCCTGTAAGTTCTAGTCTCTGCCTTAATGTCATTATTGATTCCAACCGCCATGTACAAGCCGCTTACCTCTGGTCCTAGAGCACCGGCTTCTGGAGAGCCAACCTAGAGCCTAGAGCAGCTAGAACCTAGCCTAGAGCACGGGTATCTCTCCTAGAGCACAGCGTGGCCTACCTAGAGCATACCTAGAGCAACACGTTAAACCTCCTCCTAGAGCATTCCTAGAGCATAGAGCAACACAACGAATAGCCCTAGAGCAACCTAGAGCACATGCATCGTTCTAGCTTCCATGGGGCCGCTTTCCCTAGAGCACTCTGTACCTAGAGCAGGGGCTGATACCACAGCCTAGAGCAATACATCCCTCCTAGAGCATGCCTAGAGCATGGACATCAATTTGTTCTCTGAGCATCCAAGTGTCCCGGGTCACGCCTAGAGCAGACTGCAAAGGGTTTATATATTCAAGTCAATCCTAGACCTAGAGCATACAATAACAACCCCCTAGAGCAAGCATGACTGGGTAATGGCCTAGAGCAGTTCGCTCGCCCTAGACCTAGAGCATCCTCGACCCAACTAACCTAGAGCACACCTGTCCAATAGCACCTAGAGCTGTCCAATTCCAATTAGAGCAACCCTAGAGCACTGTCCAATCACCTAGAGCAATGCACACATCACTGTCCAATAACACAGCTACTCATTCCACTGTCCAATATGCACACCATGCACAATCGCAACCATGCACACAAGGAGAGCTGCTGTCCAATTGCGGCATTGTAAACTCACCATGCACATTAATATTACTGTCCAATTGTCCTGTCTGTCCAATAATCTGTCCAATAGCCACTCGATCTGTCCAATAGATCCAGTCTGTCCAATAAGCCATCTGTCCAACTGTCCAATGCTGTCCAATCCCATGCACACCATGCACAGGTACCTGTCCCTGTCCAATATGTCACCCGGTCGTCCAAACCACTGTCCAATTGCACCCATGCACACCTGTCCAATGCTCTATCCATGCACACTGTCCAATTGCACAATGCACATCCCGTCCCATGCACATGCACTGCTGTCCAATGCACATCAATCCGAGATCGCATGCCTGTCCTGTCCTGTCCAATTGTCCAATTTTGCCTGTCCAATCCAATATACCATCTGTCCAATTGTCCAATTTACCATGCACAAAATGAGGCACCATGCACAGCACAAACGCACCACCATGCACAGCGAACCATGCACACTACCGTCATTTCTCCATGCACAAAGCATTGGGCCACAGCCACTTGATCGGAGGAAGGTCACGCAGCCGGGTGGAATCGAGTTCTCCTTTCAATCGGTGACTAAATCTACGAGTTCACTCGCGGCTAGAGCTTTCCGTTCACCCTTCGACATCTCGGCTGGCACGGCGCTTCGCCCGAGTTCAGGGTAGGATAACTAGACGAATCACCTATTTTTTGCTCCTTTATGACCTCGATCGTGGGGTGAGCCTCACGTTGGGCTGCCATTTAGGCACGTGCATGACGCCATTCGGTCCATGGTCCCCAGATCTATTCCAATTAGTGGAAGCAGGACTAACGGGGTCTCTCTTAAAGAACAGTGAGAATAAGTACGCTCTTGTTAAGCACTTAGCTCTGGTGCGCATGCGCGTTCCCCCTATTCGTGTAGGGTGCTCGGAGTGTACTCCCTGTACGCTACCAACGCCCAATCATGCCCCTTCTGGGCTGTTGCGCCGTTTACAGAATGATCCGTAGCCTGGATTGATTGGGACCATTCCGCGTGTCACTACTATGTACACTAGCTTCGCGTACGCCGTCGCTTTTCTCCCACCCATAGATTGCCCATAGATCATAGATTCGCTCTGTTCAGCCACCCCATAGATGATTACAAACGCTACAAGGTTCTTCATGCTCCCATAGATGCACCTGGCCCATAGATCCATAGATTCATAGCTTTTATGTCCCCATAGATGGTAATAATTCACCCATAGATTCGTATTATCCAACCCCAGATCTTCCCCATAGATACGAACCCCATAGATCCATAGATGGCCCCATAGACCCATAGATATAGATAATAACCCCATAGATCTTAATGCGAATTGGAGAACTTCGGGATCAGTCAACCCCATAGATTTTCTGGCACGGCCCATAGATGTAGTAGGTACCTGTCTACTATGTCCCATAGATCGTTCGAATATAGAGAATTAAACCTCCCATAGATGAACTCGAAGGACATCCGCGTCACCCACCCATAGATAGATCTGGGGAGTACCCCCATAGATCCCATAGATGGAGTAGATTATGGCCCATAGATGATGAGTAGTGCCCATAGATAGATCAGACCCTGTGGGGAGTATTGGGGAGTACCGCCCATAGATGCCCATAGATCATAGATCCCCCCATAGATCAATTGGGGAGTATGGGGAGTATATGGGGAGTGGGGAGTATATACAAAGGACGATATGGGGAGTATAAGATTCGCGCAGAGTTAACTTAGAGGTCCTGGCCATGCAGGAAGTTTTGGGGAGTAAACGAGTGGGGAGTAGGGGAGTACAACAGTGTGTACTAGTCCTTTGATTGGGGAGTAAGAGTGGGGAGTACGGTTGGGGAGTAATGGGGAGTAGTCAGTTTGGGTGCTAAAGCATGGAGGAACCTGATGAGCTTGGGGAGTAGGGGAGTAATGTGTACCCTTATAACATGGGGAGTAAGTGACCCGAGTGTGGGGAGTACCTGAGTGGGGAGTAGTGGGGAGTAATGCTGGGGAGTAAACGGGCTGACGTTCCCTAGATGAGACGATACGGCTCAATGGGGAGTAGAATAGATATGGTAAATATTTGATGTCAAAACAGGGGGAAATCTCTGCCTCATGCGCAATGTTTTCGAGAGATGATCCGATATATGTTTTTGCGCACCCTTCCCCACTTAAACATGATACCGTCATTGGAACGGGGTTGTCCAAGGATCGCCTGGCTACCATGCATTGCCGCGCGCATGGAACCACCAGAGTTTCGAAACCTGGACCGATCAAGCCCACAGTGAAAAACATCGGGCTGGAAGTTACGGGTCATTTGAATTTTAAGGAAGTTCGTAAACAAGCTGGATCTTCTGAATATCACGGCGGAGTGTATGGCATCTACATCCGCGTGTATCGTGTCCCTGCAAGCGTAATGATGGGACAGTGAATACACAGCTTTCTCCGGAACAGTGCCTCGAGCGCGGTAGGGGCTGTAACTACAAATCTCACAAGAGGTCCTGCCTGGAATGGATGCGGACACACTCCTTCAGGATTCGCTCCTATATTGGACATGTGTGGGGAGATTTTCCCTCCTGTCTCGGAGATACGCAACTCTAATTGCCTGAGACTTGTAGTTTGCACGTTACTCAAATTAAACCAACCATAATCTCACGCCGCGCGGGTGAGCACTTGTCTACTTGTCGGTAGCAACCTGAACGGAAATTTTAGGTGAAACCCGGGAGGGTCTCGACGTTTAGAGCTAGACGGGATAGTAATGTATTCACGATCAGTAATACAGCCTACTTGAAGGTCATAGCGATACTACGTTGCGTTAGTATCTTCGCTTACACTACAATCTGCCGCCAGATCCTCAAGAATGAGGTAAACCTTGCACCGCGCTACTCTCCGTACCGCAGGGCTCAAAACGATTCAACTTTGACTACGAGGCCTACACTTAACCTCCTAACGGTTAGATGGCTGCAGAGTTCAGGGACCATAGCCAGGTCGGCCCGACTCAGAACATTCTGAAGCATAAGGCCAAAGGTCTACATATTCCGTACGGGTTTAATACACCGCAACTCTACGTTAAAAACCAACAAGACTTCAAATTGGCAATGAGGTCGTAAGTGTGTCTCGGAACGCACCCTCGAATTGCAAGCTGTTTTCCTATATACGAGCCGCACCACCAGGCTAGAACGCCATTCGCGATAGGAGAGGGCATTTACAGTATCAGCTACGTAATTTAGCCTGGCCTGCAGGGCAATTGTAGGAAACCTGAGCGATCAAATGGGGGGTAAACTCAACATTCGATCGGACACAAATGGGGACGCCCTTAGGAACTTGCTTCGGAGTTGTGTGACTTAACAACAAGTCGGATGTTTACCAAGAGGCAGAGCGGAATTACCAAGACACACTAGAAAGGAAATCTGTGTTCCTCGTAGGCCAATCAACGACTCAAACGCTTCTATGGTAATAGTTTGTAATTTGTACTATGTGCACTGTTAGTATCCATAATTAACATACTCAGCGTGAGACATCATAAGGGATCTTCGCTTATAAGCCTGACATTAGTCAGGAACGGATGTCATCTACTCCCCCGTATCTCTTTCTTTTGGCTTGAGTTAGAAAGGTCGCATGGAGAACGTTCGCTCAGATCTTCTAAGAGTGCACGTCGGTAGTACCCGCAAAGAAATCAAGCGCTTATCCTTATACCAGCGGCGTTACCGGCTACTACATTCTTCTAGTTTAGCCCATACGTCGAGGTCCCTAAGTCGAAGAACCGCTCTAACAAATCAGGCATGTTATCTAGCCGTTTACATATTTATGTGTACACAACTCTTCATATGTCGAATCACATAGCGTGTGGGTAATGGGTACTCTGAACGAAGGCAAGGGTTCGTCCTATTCTACCTTCTCCCTTTATATCGATCAATATGGGGCGAACAGGGGACCGGCCCCTGCGTGAGCCAGGCGGCACGCGAAATCAACTGTAACTGGGTTGCGCCAACCCATAGGATCTTGAGCAACATCGTACTAAAAACATACATCCTAAGAATGTCGTGACTCTTTGCGGCAGGGAGTGGGATGTATGGCGTCAAACCTTTCTAGAATACATCAGAGCTAAACTAGCGATCAGTTAATAGGAGATTCTGTAAATGTCAGGCCATGTATGTAGTCTTGATTCCAGCGCTCCTGCGATGAGATTGATGTTCGCACGCGGCTGCCATCCCGCGTTCCAATGTTAGTGTCGATAGCACACCGCCCGGATTGATTTCTCCACTGCCCGCTGTGATAACGGGTATCTTATTAAAGTCCGCAAATCGTCGTACAGACTAGGCCACCGCAGATACTGCGTGTAATAGAAATCATTGAGGAGCAGCTAGTCAAAGTTCGCAACTTATCATTTGTGCATAGGCCCCCCCCGATGGCTATGTTTGATAAGTAAGCAGTTGTACTCCGGAACCTACACGTTTCAGCTACACCAACCCGCTACGTATCCAACCGCGCGGCGACCGTTGCTGCGAAGGGCAAGAACATTAATCAGTTACCCAGGATAAATGAATGTCAGAGAAACCAAGCCCGCACCTTGCGCTACCAAGATTGTAGGGTTTTACACAGTGATAGAGGCAGCTGGTCCTGGAGTCCGTCCCCACCCGCTCTCGCAGCTAAAGCGTTAGGATACTGATGTGGGTTACGCTGGAGGGGGAGATAACATTCATTGAGTTAATGCCCTAGGCGAGTAATGATACAGCATGCCTACCTCGGTTATCTCCCTCATCACTCACCCCAGGGAATATCTGAAAGCCGCCATCCGCAACGCTACCAGGCGGTAAATTGCGTAACTAGGTTACGAAGATGCTATGTAATCTAAGTTACGGCTAGCAAAGGGACATAGCCCGGAGTTAGGGGACTACCGCGGGCGACCTTCTTTTCCCAGAATACTTGACGATGAGACCAGCTAATATAAGTGTGTCTGGGTCCAACAGTATATCGCGCGTTCAGCGTGTGGAAACTTGAGCGGGCCCCAAACAGTGCCTAAGTTACTTAGCCATTACATAATCGACTATCCATTTGGGCCAAGACACAGAACATGAAAGTAAATGTTACCTACCGACAAGCTAGTTTGATAACCCGGTTACTTAGGGGGCCAAGTCATCGACAAAACCCGATCATTTCTTCTGCATACTTCGTTTCCGGTGCAAGTAAGATCAATATAAGACCCGCTGGAGAATAGTGAAATAGCCTGTCCACGTTAAGGAATGGTGTACTTACAACCTCCCAGTACCTCCGGGTAAAGGGATGAAACTGGCCCCCCTCGAGTAAAACTCGCTGTCAAGACGATCCAAAATATCAATATCCTCCTGCGACCCAGCATTTGTCATCGCTTTGTACTTCTCTCAAGTGGAACAATCCTCTACCGCACTAGGAGCCTGACGTGTTTGTAGAGATTGTGCAATCAAGGTATACACGTTAAGTACGGCCGGTATTAACTAATAACTTTCTGCATGGCTTGCATTCGGGTTTAGCTATGCGCAATTCTTCCAACGTTAAACTTAGAGGTCCGTATTGAACAGCCCTCTACGGCTAAGTTGCGCGTGAGCTAGTTAGTCACTTTGAAAAGTTCCGGAGTAATGAGTTTTTTAACTGTATACTCGATCTGGTATTCGTCTAGCCACTTTTTTACTGTCATCTCTGGGATAG'\n",
    "k = 9\n",
    "L = 534\n",
    "t = 19\n",
    "print(' '.join(clumpFinding(s,k,L,t)))"
   ]
  },
  {
   "cell_type": "code",
   "execution_count": null,
   "metadata": {},
   "outputs": [],
   "source": []
  }
 ],
 "metadata": {
  "kernelspec": {
   "display_name": "Python 3",
   "language": "python",
   "name": "python3"
  },
  "language_info": {
   "codemirror_mode": {
    "name": "ipython",
    "version": 3
   },
   "file_extension": ".py",
   "mimetype": "text/x-python",
   "name": "python",
   "nbconvert_exporter": "python",
   "pygments_lexer": "ipython3",
   "version": "3.6.4"
  }
 },
 "nbformat": 4,
 "nbformat_minor": 2
}
